{
 "cells": [
  {
   "cell_type": "markdown",
   "metadata": {},
   "source": [
    "# Assignment 2 - Part C: Trying alternative classifiers"
   ]
  },
  {
   "cell_type": "markdown",
   "metadata": {},
   "source": [
    "This is a skeleton for trying alternative classifiers on the basketball dataset."
   ]
  },
  {
   "cell_type": "code",
   "execution_count": 199,
   "metadata": {
    "collapsed": true
   },
   "outputs": [],
   "source": [
    "import csv"
   ]
  },
  {
   "cell_type": "markdown",
   "metadata": {},
   "source": [
    "We can define, as done in Practicum 6, a data loading in a way to obtain the attributes set and class labels for each the training and the test sets."
   ]
  },
  {
   "cell_type": "code",
   "execution_count": 200,
   "metadata": {
    "collapsed": true
   },
   "outputs": [],
   "source": [
    "ATTRS = [\"LOCATION\", \"W\", \"FINAL_MARGIN\", \"SHOT_NUMBER\", \"PERIOD\", \"GAME_CLOCK\", \"SHOT_CLOCK\", \"DRIBBLES\", \"TOUCH_TIME\",\n",
    "         \"SHOT_DIST\", \"PTS_TYPE\", \"CLOSE_DEF_DIST\", \"SHOT_RESULT\"]\n",
    "ATTRS_WO_CLASS = 12\n",
    "\n",
    "OUTPUT_FILE = \"data/classifier_basketball.pred.csv\"\n",
    "\n",
    "def load_data(filename):\n",
    "    train_x = []\n",
    "    train_y = []\n",
    "    test_x = []\n",
    "    test_y = []\n",
    "    with open(filename, 'rt') as csvfile:\n",
    "        csvreader = csv.reader(csvfile, delimiter=',')\n",
    "        i = 0\n",
    "        for row in csvreader:\n",
    "            if len(row) == ATTRS_WO_CLASS + 1:\n",
    "                i += 1\n",
    "                instance = [row[i] for i in range(ATTRS_WO_CLASS)]  # first ATTRS_WO_CLASS values are attributes\n",
    "                label = row[ATTRS_WO_CLASS]  # (ATTRS_WO_CLASS + 1)th value is the class label\n",
    "                if i % 2 == 0:  # test instance\n",
    "                    test_x.append(instance)\n",
    "                    test_y.append(label)\n",
    "                else:  # train instance\n",
    "                    train_x.append(instance)\n",
    "                    train_y.append(label)\n",
    "                    \n",
    "    return train_x, train_y, test_x, test_y"
   ]
  },
  {
   "cell_type": "markdown",
   "metadata": {},
   "source": [
    "And then we can use it to load the data."
   ]
  },
  {
   "cell_type": "code",
   "execution_count": 201,
   "metadata": {
    "collapsed": true
   },
   "outputs": [],
   "source": [
    "train_x, train_y, test_x, test_y = load_data(\"data/basketball.train.csv\")"
   ]
  },
  {
   "cell_type": "markdown",
   "metadata": {},
   "source": [
    "predictions evaluator:"
   ]
  },
  {
   "cell_type": "code",
   "execution_count": 202,
   "metadata": {
    "collapsed": true
   },
   "outputs": [],
   "source": [
    "def evaluate(predictions, true_labels):\n",
    "    correct = 0\n",
    "    incorrect = 0\n",
    "    for i in range(len(predictions)):\n",
    "        if predictions[i] == true_labels[i]:\n",
    "            correct += 1\n",
    "        else:\n",
    "            incorrect += 1\n",
    "\n",
    "    print(\"\\tAccuracy:   \", correct / len(predictions))\n",
    "    print(\"\\tError rate: \", incorrect / len(predictions))\n",
    "    \n",
    "    return correct / len(predictions)"
   ]
  },
  {
   "cell_type": "markdown",
   "metadata": {},
   "source": [
    "Scikit-learn needs that all the attribute values to be numeric. This is, we need to binarize all the non-numeric attribute values, to obtain vectors: records having only numbers. The `DictVectorizer` class provided by scikit-learn allows to do this easily."
   ]
  },
  {
   "cell_type": "code",
   "execution_count": 203,
   "metadata": {
    "collapsed": true
   },
   "outputs": [],
   "source": [
    "from sklearn.feature_extraction import DictVectorizer"
   ]
  },
  {
   "cell_type": "markdown",
   "metadata": {},
   "source": [
    "Mind that each `train_x` and `test_x` are a list of lists.\n",
    "\n",
    "We just need to obtain from each a list of dictionaries (as done in previous practica where each record was a dictionary)."
   ]
  },
  {
   "cell_type": "code",
   "execution_count": 204,
   "metadata": {
    "collapsed": true
   },
   "outputs": [],
   "source": [
    "dicts_train_x = []\n",
    "for x in train_x:\n",
    "    d = {}\n",
    "    for i, attr in enumerate(ATTRS):\n",
    "        if i < len(ATTRS) - 1: # we removed class from train_x elems\n",
    "            val = x[i]\n",
    "            # save as floats the values for the already-numeric attributes from dataset, keep the rest as the strings they are\n",
    "            if i not in [0, 1, 4, 10]:  # indices for \"LOCATION\", \"W\", \"PERIOD\", \"PTS_TYPE\" attributes\n",
    "                val = float(val)\n",
    "            d[attr] = val\n",
    "    dicts_train_x.append(d)"
   ]
  },
  {
   "cell_type": "markdown",
   "metadata": {},
   "source": [
    "Finally, the `fit_transform` method of the vectorizer binarizes the non-numeric attributes in the list of dictionaries, and returns the vector we need."
   ]
  },
  {
   "cell_type": "code",
   "execution_count": 205,
   "metadata": {
    "collapsed": true
   },
   "outputs": [],
   "source": [
    "vectorizer_train = DictVectorizer()\n",
    "vec_train_x = vectorizer_train.fit_transform(dicts_train_x).toarray()"
   ]
  },
  {
   "cell_type": "markdown",
   "metadata": {},
   "source": [
    "We do similarly for vectorizing `test_x`."
   ]
  },
  {
   "cell_type": "code",
   "execution_count": 206,
   "metadata": {
    "collapsed": true
   },
   "outputs": [],
   "source": [
    "dicts_test_x = []\n",
    "# TODO DONE\n",
    "for x in test_x:\n",
    "    d = {}\n",
    "    for i, attr in enumerate(ATTRS):\n",
    "        if i < len(ATTRS) - 1: # we removed class from test_x elems\n",
    "            val = x[i]\n",
    "            # save as floats the values for the already-numeric attributes from dataset, keep the rest as the strings they are\n",
    "            if i not in [0, 1, 4, 10]:  # indices for \"LOCATION\", \"W\", \"PERIOD\", \"PTS_TYPE\" attributes\n",
    "                val = float(val)\n",
    "            d[attr] = val\n",
    "    dicts_test_x.append(d)\n",
    "\n",
    "vectorizer_test = DictVectorizer()\n",
    "vec_test_x = vectorizer_train.fit_transform(dicts_test_x).toarray()"
   ]
  },
  {
   "cell_type": "markdown",
   "metadata": {},
   "source": [
    "Having `evaluate` defined somewhere, we are ready to learn and apply the model, similarly to Task 3 of Practicum 6. But here, we use the vectors recently obtained for the input sets. E.g., for Naive Bayes classifier:"
   ]
  },
  {
   "cell_type": "code",
   "execution_count": 207,
   "metadata": {
    "collapsed": true
   },
   "outputs": [],
   "source": [
    "from sklearn.naive_bayes import GaussianNB\n",
    "from sklearn.tree import DecisionTreeClassifier\n",
    "from sklearn.neighbors import KNeighborsClassifier\n",
    "from sklearn.ensemble import RandomForestClassifier\n",
    "\n",
    "#clf = GaussianNB()\n",
    "#clf.fit(vec_train_x, train_y)\n",
    "#predictions = clf.predict(vec_test_x)\n",
    "#evaluate(predictions, test_y)"
   ]
  },
  {
   "cell_type": "code",
   "execution_count": 208,
   "metadata": {},
   "outputs": [
    {
     "name": "stdout",
     "output_type": "stream",
     "text": [
      "Decision Tree\n",
      "\tAccuracy:    0.5363325525671055\n",
      "\tError rate:  0.4636674474328945\n",
      "Nearest Neighbors\n",
      "\tAccuracy:    0.5472363567832431\n",
      "\tError rate:  0.4527636432167569\n",
      "Naive Bayes (Gaussian)\n",
      "\tAccuracy:    0.57109011119188\n",
      "\tError rate:  0.42890988880812\n",
      "Random Forests\n",
      "\tAccuracy:    0.5780362383221603\n",
      "\tError rate:  0.4219637616778397\n",
      "\n",
      "Best classifier: Random Forests\n"
     ]
    }
   ],
   "source": [
    "classifiers = {\"Decision Tree\": DecisionTreeClassifier(),\n",
    "               \"Nearest Neighbors\": KNeighborsClassifier(n_neighbors=5),\n",
    "               \"Naive Bayes (Gaussian)\": GaussianNB(),\n",
    "               \"Random Forests\": RandomForestClassifier(n_estimators=50, max_features=5)  # number of trees in the forest, and maximum number of features in each tree\n",
    "               }\n",
    "\n",
    "best_accuracy = 0\n",
    "\n",
    "for name, clf in classifiers.items():\n",
    "    print(name)\n",
    "    clf.fit(vec_train_x, train_y)\n",
    "    predictions = clf.predict(vec_test_x)\n",
    "    accuracy = evaluate(predictions, test_y)\n",
    "    # print(\"\\tPrediction list: \", predictions)\n",
    "    # print(\"\\tPrediction list length: %d\" % len(predictions))\n",
    "    if accuracy > best_accuracy: \n",
    "        best_accuracy = accuracy\n",
    "        best_preds = predictions\n",
    "        best_clf = name\n",
    "\n",
    "print(\"\\nBest classifier: %s\" % best_clf)\n",
    "        \n"
   ]
  },
  {
   "cell_type": "code",
   "execution_count": 209,
   "metadata": {},
   "outputs": [
    {
     "name": "stdout",
     "output_type": "stream",
     "text": [
      "Results written to 'data/classifier_basketball.pred.csv'\n"
     ]
    }
   ],
   "source": [
    "with open(OUTPUT_FILE, 'w') as output:\n",
    "    output.write(\"Id,Target\")\n",
    "    for id, pred in enumerate(best_preds):\n",
    "        if (id + 1 <= 37142):\n",
    "            output.write(\"\\n%s,%s\" % (id + 1, pred))\n",
    "print(\"Results written to '%s'\" % OUTPUT_FILE)"
   ]
  },
  {
   "cell_type": "code",
   "execution_count": null,
   "metadata": {
    "collapsed": true
   },
   "outputs": [],
   "source": []
  }
 ],
 "metadata": {
  "kernelspec": {
   "display_name": "Python 3",
   "language": "python",
   "name": "python3"
  },
  "language_info": {
   "codemirror_mode": {
    "name": "ipython",
    "version": 3
   },
   "file_extension": ".py",
   "mimetype": "text/x-python",
   "name": "python",
   "nbconvert_exporter": "python",
   "pygments_lexer": "ipython3",
   "version": "3.6.1"
  }
 },
 "nbformat": 4,
 "nbformat_minor": 1
}
