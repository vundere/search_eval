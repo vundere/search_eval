{
 "cells": [
  {
   "cell_type": "markdown",
   "metadata": {},
   "source": [
    "# Assignment 2 - Part C: Trying alternative classifiers"
   ]
  },
  {
   "cell_type": "markdown",
   "metadata": {},
   "source": [
    "This is a skeleton for trying alternative classifiers on the basketball dataset."
   ]
  },
  {
   "cell_type": "code",
   "execution_count": 23,
   "metadata": {
    "collapsed": true
   },
   "outputs": [],
   "source": [
    "import csv"
   ]
  },
  {
   "cell_type": "markdown",
   "metadata": {},
   "source": [
    "We can define, as done in Practicum 6, a data loading in a way to obtain the attributes set and class labels for each the training and the test sets."
   ]
  },
  {
   "cell_type": "code",
   "execution_count": 24,
   "metadata": {
    "collapsed": true
   },
   "outputs": [],
   "source": [
    "ATTRS = [\"LOCATION\", \"W\", \"FINAL_MARGIN\", \"SHOT_NUMBER\", \"PERIOD\", \"GAME_CLOCK\", \"SHOT_CLOCK\", \n",
    "         \"DRIBBLES\", \"TOUCH_TIME\", \"SHOT_DIST\", \"PTS_TYPE\", \"CLOSE_DEF_DIST\", \"SHOT_RESULT\"]\n",
    "\n",
    "ATTRS_WO_CLASS = 12\n",
    "\n",
    "def load_train_data(filename):\n",
    "    train_x = []\n",
    "    train_y = []\n",
    "    with open(filename, 'rt') as csvfile:\n",
    "        csvreader = csv.reader(csvfile, delimiter=',')\n",
    "        i = 0\n",
    "        for row in csvreader:\n",
    "            if len(row) == ATTRS_WO_CLASS + 1:\n",
    "                i += 1\n",
    "                instance = [row[i] for i in range(ATTRS_WO_CLASS)]  # first ATTRS_WO_CLASS values are attributes\n",
    "                label = row[ATTRS_WO_CLASS]  # (ATTRS_WO_CLASS + 1)th value is the class label\n",
    "                train_x.append(instance)\n",
    "                train_y.append(label)\n",
    "                    \n",
    "    return train_x, train_y\n",
    "\n",
    "def load_test_data(filename):\n",
    "    test_x = []  # instances to be tested\n",
    "    test_y = [\"made\", \"made\", \"made\", \"missed\", \"missed\", \"made\", \"made\",\n",
    "              \"missed\", \"missed\", \"made\", \"made\", \"made\", \"missed\", \"made\",\n",
    "              \"missed\", \"missed\", \"missed\", \"made\", \"missed\", \"missed\"]  # from toy-data - just for testing\n",
    "    with open(filename, 'rt') as csvfile:\n",
    "        csvreader = csv.reader(csvfile, delimiter=',')\n",
    "        i = 0\n",
    "        for row in csvreader:\n",
    "            if len(row) == ATTRS_WO_CLASS:\n",
    "                i += 1\n",
    "                instance = [row[i] for i in range(ATTRS_WO_CLASS)]  \n",
    "                test_x.append(instance)  \n",
    "                if i > 20:  # append fake ground truth data to toy-data\n",
    "                    label = \"made\"  # all made, fake ground truth for testing!\n",
    "                    test_y.append(label)\n",
    "                    \n",
    "    return test_x, test_y"
   ]
  },
  {
   "cell_type": "markdown",
   "metadata": {},
   "source": [
    "And then we can use it to load the data."
   ]
  },
  {
   "cell_type": "code",
   "execution_count": 25,
   "metadata": {
    "collapsed": true
   },
   "outputs": [],
   "source": [
    "train_x, train_y = load_train_data(\"data/basketball.train.csv\")\n",
    "test_x, test_y = load_test_data(\"data/basketball.test.csv\")"
   ]
  },
  {
   "cell_type": "markdown",
   "metadata": {},
   "source": [
    "predictions evaluator:"
   ]
  },
  {
   "cell_type": "code",
   "execution_count": 26,
   "metadata": {
    "collapsed": true
   },
   "outputs": [],
   "source": [
    "def evaluate(predictions, true_labels):\n",
    "    correct = 0\n",
    "    incorrect = 0\n",
    "    for i in range(len(predictions)):\n",
    "        if predictions[i] == true_labels[i]:\n",
    "            correct += 1\n",
    "        else:\n",
    "            incorrect += 1\n",
    "\n",
    "    print(\"\\tAccuracy:   \", correct / len(predictions))\n",
    "    print(\"\\tError rate: \", incorrect / len(predictions))\n",
    "    \n",
    "    return correct / len(predictions)  # return accuracy"
   ]
  },
  {
   "cell_type": "markdown",
   "metadata": {},
   "source": [
    "Scikit-learn needs that all the attribute values to be numeric. This is, we need to binarize all the non-numeric attribute values, to obtain vectors: records having only numbers. The `DictVectorizer` class provided by scikit-learn allows to do this easily."
   ]
  },
  {
   "cell_type": "code",
   "execution_count": 27,
   "metadata": {
    "collapsed": true
   },
   "outputs": [],
   "source": [
    "from sklearn.feature_extraction import DictVectorizer"
   ]
  },
  {
   "cell_type": "markdown",
   "metadata": {},
   "source": [
    "Mind that each `train_x` and `test_x` are a list of lists.\n",
    "\n",
    "We just need to obtain from each a list of dictionaries (as done in previous practica where each record was a dictionary)."
   ]
  },
  {
   "cell_type": "code",
   "execution_count": 28,
   "metadata": {
    "collapsed": true
   },
   "outputs": [],
   "source": [
    "dicts_train_x = []\n",
    "for x in train_x:\n",
    "    d = {}\n",
    "    for i, attr in enumerate(ATTRS):\n",
    "        if i < len(ATTRS) - 1: # we removed class from train_x elems\n",
    "            val = x[i]\n",
    "            # save as floats the values for the already-numeric attributes from dataset \n",
    "            # keep the rest as the strings they are\n",
    "            if i not in [0, 1, 4, 10]:  # indices for \"LOCATION\", \"W\", \"PERIOD\", \"PTS_TYPE\" attributes\n",
    "                val = float(val)\n",
    "            d[attr] = val\n",
    "    dicts_train_x.append(d)"
   ]
  },
  {
   "cell_type": "markdown",
   "metadata": {},
   "source": [
    "Finally, the `fit_transform` method of the vectorizer binarizes the non-numeric attributes in the list of dictionaries, and returns the vector we need."
   ]
  },
  {
   "cell_type": "code",
   "execution_count": 29,
   "metadata": {
    "collapsed": true
   },
   "outputs": [],
   "source": [
    "vectorizer_train = DictVectorizer()\n",
    "vec_train_x = vectorizer_train.fit_transform(dicts_train_x).toarray()"
   ]
  },
  {
   "cell_type": "markdown",
   "metadata": {},
   "source": [
    "We do similarly for vectorizing `test_x`."
   ]
  },
  {
   "cell_type": "code",
   "execution_count": 30,
   "metadata": {
    "collapsed": true
   },
   "outputs": [],
   "source": [
    "dicts_test_x = []\n",
    "for x in test_x:\n",
    "    d = {}\n",
    "    for i, attr in enumerate(ATTRS):\n",
    "        if i < len(ATTRS) - 1: # we removed class from test_x elems\n",
    "            val = x[i]\n",
    "            # save as floats the values for the already-numeric attributes from dataset \n",
    "            # keep the rest as the strings they are\n",
    "            if i not in [0, 1, 4, 10]:  # indices for \"LOCATION\", \"W\", \"PERIOD\", \"PTS_TYPE\" attributes\n",
    "                val = float(val)\n",
    "            d[attr] = val\n",
    "    dicts_test_x.append(d)\n",
    "\n",
    "vectorizer_test = DictVectorizer()\n",
    "vec_test_x = vectorizer_train.fit_transform(dicts_test_x).toarray()"
   ]
  },
  {
   "cell_type": "markdown",
   "metadata": {},
   "source": [
    "Having `evaluate` defined somewhere, we are ready to learn and apply the model, similarly to Task 3 of Practicum 6. But here, we use the vectors recently obtained for the input sets. E.g., for Naive Bayes classifier:"
   ]
  },
  {
   "cell_type": "code",
   "execution_count": 31,
   "metadata": {
    "collapsed": true
   },
   "outputs": [],
   "source": [
    "from sklearn.naive_bayes import GaussianNB\n",
    "from sklearn.tree import DecisionTreeClassifier\n",
    "from sklearn.neighbors import KNeighborsClassifier\n",
    "from sklearn.ensemble import RandomForestClassifier\n",
    "from sklearn.ensemble import AdaBoostClassifier\n",
    "from sklearn.svm import SVC"
   ]
  },
  {
   "cell_type": "code",
   "execution_count": 32,
   "metadata": {},
   "outputs": [
    {
     "name": "stdout",
     "output_type": "stream",
     "text": [
      "ALL EVALUATION IS WRONG. ONLY FOR TESTING AGAINST MADE UP GROUND TRUTH!\n",
      "\n",
      "Linear Support Vector Classification\n"
     ]
    },
    {
     "name": "stderr",
     "output_type": "stream",
     "text": [
      "C:\\Users\\EJS\\Anaconda3\\lib\\site-packages\\sklearn\\svm\\base.py:220: ConvergenceWarning: Solver terminated early (max_iter=10000).  Consider pre-processing your data with StandardScaler or MinMaxScaler.\n",
      "  % self.max_iter, ConvergenceWarning)\n"
     ]
    },
    {
     "name": "stdout",
     "output_type": "stream",
     "text": [
      "\tAccuracy:    0.8367346938775511\n",
      "\tError rate:  0.16326530612244897\n"
     ]
    }
   ],
   "source": [
    "classifiers = {\n",
    "    #\"Decision Tree\": DecisionTreeClassifier(),\n",
    "    #\"Nearest Neighbors\": KNeighborsClassifier(n_neighbors=2),\n",
    "    #\"Naive Bayes (Gaussian)\": GaussianNB(priors=[0.35, 0.65]),  # priors = prior probabilities of the two classes\n",
    "    #\"Random Forest\": RandomForestClassifier(n_estimators=5, max_features=None, class_weight={\"made\":0.3, \"missed\":0.7}), \n",
    "    #\"AdaBoost\": AdaBoostClassifier(learning_rate=0.5),\n",
    "    \"Support Vector Classification\": SVC(kernel=\"rbf\", decision_function_shape=\"ovo\", max_iter=10000)\n",
    "}\n",
    "\n",
    "best_accuracy = 0\n",
    "\n",
    "print(\"ALL EVALUATION IS WRONG. ONLY FOR TESTING AGAINST MADE UP GROUND TRUTH!\\n\")\n",
    "for name, clf in classifiers.items():\n",
    "    print(name)\n",
    "    clf.fit(vec_train_x, train_y)\n",
    "    predictions = clf.predict(vec_test_x)\n",
    "    accuracy = evaluate(predictions, test_y)  # test_y is just a made up ground truth\n",
    "    if accuracy > best_accuracy: \n",
    "        best_accuracy = accuracy\n",
    "        best_preds = predictions\n",
    "        best_clf = name\n",
    "\n",
    "        \n",
    "# Best so far (against made up GT): Naive Bayes\n",
    "#\n",
    "# The scores below are from Kaggle\n",
    "#\n",
    "# Naive Bayes\n",
    "#    priors=[0.35, 0.65]: 0.57579 \n",
    "#    priors=[0.3, 0.7]: 0.57433    \n",
    "#    priors=[0.4, 0.6]: 0.56984\n",
    "#    priors=[0.25, 0.75]: 0.56305 \n",
    "#    priors=[0.5, 0.5]: 0.55338\n",
    "#    priors=[0.6, 0.4]: 0.54682\n",
    "#\n",
    "# SVM.SVC\n",
    "#    (kernel=\"linear\", decision_function_shape=\"ovo\", max_iter=10000): 0.55583\n",
    "#    (kernel=\"rbf\", decision_function_shape=\"ovo\", max_iter=10000): 0.51233\n",
    "#\n",
    "# Random Forest\n",
    "#    (n_estimators=10, max_features=\"auto\"): 0.54945\n",
    "#    (n_estimators=10, max_features=15): 0.54913\n",
    "#    (n_estimators=5, max_features=None, class_weight={\"made\":0.3, \"missed\":0.7}): 0.54684\n",
    "#\n",
    "# Nearest Neighbors\n",
    "#    (n=2): 0.52447\n"
   ]
  },
  {
   "cell_type": "code",
   "execution_count": 33,
   "metadata": {},
   "outputs": [
    {
     "name": "stdout",
     "output_type": "stream",
     "text": [
      "Results from Linear Support Vector Classification written to 'data/classifier_basketball.pred.csv'\n"
     ]
    }
   ],
   "source": [
    "OUTPUT_FILE = \"data/classifier_basketball.pred.csv\"\n",
    "\n",
    "with open(OUTPUT_FILE, 'w') as output:\n",
    "    output.write(\"Id,Target\")\n",
    "    for id, pred in enumerate(best_preds):\n",
    "        output.write(\"\\n%s,%s\" % (id + 1, pred))\n",
    "print(\"Results from %s written to '%s'\" % (best_clf, OUTPUT_FILE))"
   ]
  },
  {
   "cell_type": "code",
   "execution_count": null,
   "metadata": {
    "collapsed": true
   },
   "outputs": [],
   "source": []
  }
 ],
 "metadata": {
  "kernelspec": {
   "display_name": "Python 3",
   "language": "python",
   "name": "python3"
  },
  "language_info": {
   "codemirror_mode": {
    "name": "ipython",
    "version": 3
   },
   "file_extension": ".py",
   "mimetype": "text/x-python",
   "name": "python",
   "nbconvert_exporter": "python",
   "pygments_lexer": "ipython3",
   "version": "3.6.1"
  }
 },
 "nbformat": 4,
 "nbformat_minor": 1
}
