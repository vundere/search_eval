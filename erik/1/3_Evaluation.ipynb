{
 "cells": [
  {
   "cell_type": "markdown",
   "metadata": {},
   "source": [
    "# Assignment 1 - Part 2\n",
    "\n",
    "Evaluation of retrieval results."
   ]
  },
  {
   "cell_type": "code",
   "execution_count": 5,
   "metadata": {
    "collapsed": true
   },
   "outputs": [],
   "source": [
    "RANKING_FILE = \"data/baseline.txt\"  # file with the document rankings\n",
    "QRELS_FILE = \"data/qrels2.csv\"  # file with the relevance judgments (ground truth)"
   ]
  },
  {
   "cell_type": "markdown",
   "metadata": {},
   "source": [
    "**TODO** Complete the function that calculates evaluation metrics for a given a ranking (`ranking`) against the ground truth (`gt`). It should return the results as a dictionary, where the key is the retrieval metric.\n",
    "\n",
    "(Hint: see [Task 1 of Practicum 2](https://github.com/kbalog/uis-dat630-fall2017/blob/master/practicum/practicum-2/solutions/1_Eval_binary.ipynb).)"
   ]
  },
  {
   "cell_type": "code",
   "execution_count": 6,
   "metadata": {
    "collapsed": true
   },
   "outputs": [],
   "source": [
    "def eval_query(ranking, gt):\n",
    "    p10, ap, rr, num_rel = 0, 0, 0, 0\n",
    "\n",
    "    # TODO\n",
    "    for i, doc_id in enumerate(ranking):\n",
    "        if doc_id in gt:  # doc is relevant\n",
    "            num_rel += 1\n",
    "            pi = num_rel / (i + 1)  # P@i\n",
    "            ap += pi  # AP\n",
    "\n",
    "            if i < 10:  # P@10\n",
    "                p10 += 1\n",
    "            if rr == 0:  # Reciprocal rank\n",
    "                rr = 1 / (i + 1)\n",
    "\n",
    "    p10 /= 10\n",
    "    ap /= len(gt)  # divide by the number of relevant documents\n",
    "    \n",
    "    return {\"P10\": p10, \"AP\": ap, \"RR\": rr}\n",
    "    "
   ]
  },
  {
   "cell_type": "markdown",
   "metadata": {},
   "source": [
    "Function that evaluates an output file, which contains rankings for a set of queries.\n",
    "\n",
    "**TODO** It is almost complete, you just need to add the computation of mean scores (over the entire query set)."
   ]
  },
  {
   "cell_type": "code",
   "execution_count": 7,
   "metadata": {},
   "outputs": [],
   "source": [
    "def eval(gt_file, output_file):\n",
    "    # load data from ground truth file\n",
    "    gt = {}  # holds a list of relevant documents for each queryID\n",
    "    with open(gt_file, \"r\") as fin:\n",
    "        header = fin.readline().strip()\n",
    "        if header != \"queryID,docIDs\":\n",
    "            raise Exception(\"Incorrect file format!\")\n",
    "        for line in fin.readlines():\n",
    "            qid, docids = line.strip().split(\",\")\n",
    "            gt[qid] = docids.split()\n",
    "            \n",
    "    # load data from output file\n",
    "    output = {}\n",
    "    with open(output_file, \"r\") as fin:\n",
    "        header = fin.readline().strip()\n",
    "        if header != \"QueryId,DocumentId\":\n",
    "            raise Exception(\"Incorrect file format!\")\n",
    "        for line in fin.readlines():\n",
    "            qid, docid = line.strip().split(\",\")\n",
    "            if qid not in output:\n",
    "                output[qid] = []\n",
    "            output[qid].append(docid)\n",
    "    \n",
    "    # evaluate each query that is in the ground truth\n",
    "    print(\"  QID  P@10   (M)AP  (M)RR\")\n",
    "    # TODO compute averages over the entire query set\n",
    "    sum_p10, sum_ap, sum_rr, len_rankings = 0, 0, 0, 0\n",
    "    for qid in sorted(gt.keys()):\n",
    "        res = eval_query(output.get(qid, []), gt.get(qid, []))\n",
    "        sum_p10 += res[\"P10\"]\n",
    "        sum_ap += res[\"AP\"]\n",
    "        sum_rr += res[\"RR\"]\n",
    "        len_rankings += 1\n",
    "        print(\"%5s %6.3f %6.3f %6.3f\" % (qid, res[\"P10\"], res[\"AP\"], res[\"RR\"]))\n",
    "    \n",
    "    # print averages\n",
    "    avg_p10 = sum_p10 / len_rankings\n",
    "    avg_ap = sum_ap / len_rankings\n",
    "    avg_rr = sum_rr / len_rankings\n",
    "    print(\"%5s %6.3f %6.3f %6.3f\" % (\"ALL\", avg_p10, avg_ap, avg_rr))"
   ]
  },
  {
   "cell_type": "markdown",
   "metadata": {},
   "source": [
    "### Main"
   ]
  },
  {
   "cell_type": "code",
   "execution_count": 8,
   "metadata": {},
   "outputs": [
    {
     "name": "stdout",
     "output_type": "stream",
     "text": [
      "  QID  P@10   (M)AP  (M)RR\n",
      "  303  0.500  0.287  1.000\n",
      "  307  0.000  0.002  0.028\n",
      "  310  0.100  0.025  0.200\n",
      "  314  0.000  0.000  0.000\n",
      "  322  0.100  0.004  0.143\n",
      "  325  0.000  0.002  0.010\n",
      "  330  0.000  0.029  0.029\n",
      "  336  0.100  0.156  0.500\n",
      "  341  0.000  0.003  0.013\n",
      "  344  0.000  0.000  0.000\n",
      "  347  0.500  0.118  1.000\n",
      "  353  0.000  0.000  0.000\n",
      "  354  0.500  0.043  0.500\n",
      "  362  0.100  0.044  0.333\n",
      "  363  0.300  0.046  0.500\n",
      "  367  0.200  0.013  0.250\n",
      "  372  0.000  0.000  0.000\n",
      "  374  0.000  0.094  0.083\n",
      "  383  0.100  0.007  0.167\n",
      "  389  0.000  0.000  0.000\n",
      "  393  0.200  0.050  0.143\n",
      "  399  0.500  0.047  1.000\n",
      "  401  0.100  0.003  0.200\n",
      "  404  0.300  0.052  0.500\n",
      "  408  0.100  0.004  0.143\n",
      "  409  0.100  0.073  0.333\n",
      "  416  0.000  0.007  0.016\n",
      "  419  0.100  0.049  0.500\n",
      "  426  0.700  0.100  0.500\n",
      "  427  0.700  0.486  1.000\n",
      "  433  0.100  0.047  0.167\n",
      "  435  0.000  0.009  0.037\n",
      "  436  0.100  0.009  0.125\n",
      "  439  0.000  0.001  0.045\n",
      "  443  0.000  0.044  0.062\n",
      "  448  0.000  0.000  0.022\n",
      "  622  0.600  0.252  1.000\n",
      "  625  0.100  0.060  1.000\n",
      "  638  0.500  0.076  1.000\n",
      "  639  0.000  0.005  0.059\n",
      "  648  0.500  0.324  1.000\n",
      "  650  0.200  0.049  0.143\n",
      "  651  0.000  0.000  0.000\n",
      "  658  0.300  0.112  1.000\n",
      "  689  0.400  0.106  0.250\n",
      "  ALL  0.180  0.063  0.333\n"
     ]
    }
   ],
   "source": [
    "eval(QRELS_FILE, RANKING_FILE)"
   ]
  },
  {
   "cell_type": "code",
   "execution_count": null,
   "metadata": {
    "collapsed": true
   },
   "outputs": [],
   "source": []
  }
 ],
 "metadata": {
  "kernelspec": {
   "display_name": "Python 3",
   "language": "python",
   "name": "python3"
  },
  "language_info": {
   "codemirror_mode": {
    "name": "ipython",
    "version": 3
   },
   "file_extension": ".py",
   "mimetype": "text/x-python",
   "name": "python",
   "nbconvert_exporter": "python",
   "pygments_lexer": "ipython3",
   "version": "3.6.1"
  }
 },
 "nbformat": 4,
 "nbformat_minor": 2
}
